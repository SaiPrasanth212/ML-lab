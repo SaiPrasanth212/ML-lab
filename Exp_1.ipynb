{
 "cells": [
  {
   "cell_type": "markdown",
   "id": "2449d28f-4009-42d9-a57d-65258c8f58c4",
   "metadata": {},
   "source": [
    "## Experiment 1"
   ]
  },
  {
   "cell_type": "code",
   "execution_count": 2,
   "id": "3820c172-1890-403e-bdac-27d6ce44c44a",
   "metadata": {},
   "outputs": [
    {
     "name": "stdin",
     "output_type": "stream",
     "text": [
      "Enter the value of x:  5\n",
      "Enter the value of y:  6\n"
     ]
    },
    {
     "name": "stdout",
     "output_type": "stream",
     "text": [
      "x & y = 4\n",
      "x |y = 7\n",
      "x ^ y=  3\n"
     ]
    }
   ],
   "source": [
    "x = int(input(\"Enter the value of x: \"))   \n",
    "y = int(input(\"Enter the value of y: \")) \n",
    "print(\"x & y =\", x & y)\n",
    "print(\"x |y =\", x | y)\n",
    "print(\"x ^ y= \", x^y)"
   ]
  },
  {
   "cell_type": "code",
   "execution_count": 4,
   "id": "bca3fc4c-c6bc-47dd-8119-64e2e57062b6",
   "metadata": {},
   "outputs": [
    {
     "name": "stdout",
     "output_type": "stream",
     "text": [
      "Numbers from 1 to 20 which are not divisible by 2, 3, 5\n",
      "1\n",
      " \n",
      " \n",
      " \n",
      " \n",
      " \n",
      "7\n",
      " \n",
      " \n",
      " \n",
      "11\n",
      " \n",
      "13\n",
      " \n",
      " \n",
      " \n",
      "17\n",
      " \n",
      "19\n",
      "Sum of numbers from 1 to 20 which are not divisible by 2,3,5 = 68\n"
     ]
    }
   ],
   "source": [
    "Sum=0\n",
    "print('Numbers from 1 to 20 which are not divisible by 2, 3, 5')\n",
    "for i in range (1,20):\n",
    "\tif i%2==0 or i%3==0 or i%5==0:\n",
    "\t\tprint(\" \")\n",
    "\telse:\n",
    "\t\tprint(i)\n",
    "\t\tSum=Sum+i\n",
    "print('Sum of numbers from 1 to 20 which are not divisible by 2,3,5 =',Sum)"
   ]
  },
  {
   "cell_type": "code",
   "execution_count": 6,
   "id": "a6c5d195-f802-4ecc-b9ff-7464d4a1c9b0",
   "metadata": {},
   "outputs": [
    {
     "data": {
      "text/plain": [
       "5"
      ]
     },
     "execution_count": 6,
     "metadata": {},
     "output_type": "execute_result"
    }
   ],
   "source": [
    "def maximum(a, b):\n",
    "\t\n",
    "\tif a >= b:\n",
    "\t\treturn a\n",
    "\telse:\n",
    "\t\treturn b\n",
    "maximum(4,5)"
   ]
  },
  {
   "cell_type": "code",
   "execution_count": 7,
   "id": "1f3256cf-62ec-4b26-b98e-3baf9dd15a74",
   "metadata": {},
   "outputs": [
    {
     "name": "stdout",
     "output_type": "stream",
     "text": [
      "String slicing\n",
      "KRI\n",
      "RS\n",
      "AHIK\n",
      "Original List:\n",
      " [1, 2, 3, 4, 5, 6, 7, 8, 9]\n",
      "\n",
      "Sliced Lists: \n",
      "[4, 6, 8]\n",
      "[1, 3, 5, 7, 9]\n",
      "[1, 2, 3, 4, 5, 6, 7, 8, 9]\n"
     ]
    }
   ],
   "source": [
    "String = 'KRISHNA'\n",
    "s1 = slice(3)\n",
    "s2 = slice(1, 5, 2)\n",
    "s3 = slice(-1, -12, -2)\n",
    "\n",
    "print(\"String slicing\")\n",
    "print(String[s1])\n",
    "print(String[s2])\n",
    "print(String[s3])\n",
    "\n",
    "List = [1, 2, 3, 4, 5, 6, 7, 8, 9]\n",
    "print(\"Original List:\\n\", List)\n",
    "print(\"\\nSliced Lists: \")\n",
    "print(List[3:9:2])\n",
    "print(List[::2])\n",
    "print(List[::])"
   ]
  },
  {
   "cell_type": "code",
   "execution_count": null,
   "id": "abf8e49c-5a6b-466e-99cb-88700fd3f11c",
   "metadata": {},
   "outputs": [],
   "source": []
  }
 ],
 "metadata": {
  "kernelspec": {
   "display_name": "Python 3 (ipykernel)",
   "language": "python",
   "name": "python3"
  },
  "language_info": {
   "codemirror_mode": {
    "name": "ipython",
    "version": 3
   },
   "file_extension": ".py",
   "mimetype": "text/x-python",
   "name": "python",
   "nbconvert_exporter": "python",
   "pygments_lexer": "ipython3",
   "version": "3.12.7"
  }
 },
 "nbformat": 4,
 "nbformat_minor": 5
}
