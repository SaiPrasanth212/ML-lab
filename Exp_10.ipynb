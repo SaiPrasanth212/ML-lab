{
 "cells": [
  {
   "cell_type": "code",
   "execution_count": 8,
   "id": "dfcf24af-c61b-47ef-a4a6-e9d16db97f07",
   "metadata": {},
   "outputs": [
    {
     "name": "stdout",
     "output_type": "stream",
     "text": [
      "R-squared: 0.9379689020237048\n"
     ]
    }
   ],
   "source": [
    "import numpy as np\n",
    "import pandas as pd\n",
    "from sklearn.model_selection import train_test_split\n",
    "from sklearn.linear_model import LinearRegression\n",
    "from sklearn.metrics import mean_squared_error, r2_score\n",
    "\n",
    "# Create a synthetic dataset\n",
    "np.random.seed(42)\n",
    "\n",
    "# Independent variables\n",
    "X1 = 2 * np.random.rand(100, 1)\n",
    "X2 = 3 * np.random.rand(100, 1)\n",
    "X3 = 4 * np.random.rand(100, 1)\n",
    "\n",
    "# Dependent variable with some noise\n",
    "y = 3 + 2 * X1 + 1.5 * X2 + 4 * X3 + np.random.randn(100, 1)\n",
    "\n",
    "# Create a DataFrame\n",
    "data = pd.DataFrame(np.column_stack([X1, X2, X3, y]), columns=['X1', 'X2', 'X3', 'y'])\n",
    "\n",
    "# Split the dataset into training and testing sets\n",
    "X = data[['X1', 'X2', 'X3']]\n",
    "y = data['y']\n",
    "X_train, X_test, y_train, y_test = train_test_split(X, y, test_size=0.2, random_state=42)\n",
    "\n",
    "# Train the multilinear regression model\n",
    "model = LinearRegression()\n",
    "model.fit(X_train, y_train)\n",
    "\n",
    "# Make predictions on the test set\n",
    "y_pred = model.predict(X_test)\n",
    "\n",
    "# Evaluate the model\n",
    "r2 = r2_score(y_test, y_pred)\n",
    "\n",
    "# Print the R-squared value\n",
    "print(\"R-squared:\", r2)\n"
   ]
  },
  {
   "cell_type": "code",
   "execution_count": null,
   "id": "fb24d40e-058f-48c7-808e-de46e0129ef2",
   "metadata": {},
   "outputs": [],
   "source": []
  }
 ],
 "metadata": {
  "kernelspec": {
   "display_name": "Python 3 (ipykernel)",
   "language": "python",
   "name": "python3"
  },
  "language_info": {
   "codemirror_mode": {
    "name": "ipython",
    "version": 3
   },
   "file_extension": ".py",
   "mimetype": "text/x-python",
   "name": "python",
   "nbconvert_exporter": "python",
   "pygments_lexer": "ipython3",
   "version": "3.12.7"
  }
 },
 "nbformat": 4,
 "nbformat_minor": 5
}
