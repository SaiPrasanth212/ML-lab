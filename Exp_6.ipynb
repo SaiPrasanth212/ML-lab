{
 "cells": [
  {
   "cell_type": "code",
   "execution_count": 2,
   "id": "8d50dce8-604f-4b94-8f0f-5da0e9a2e6b2",
   "metadata": {},
   "outputs": [
    {
     "name": "stdout",
     "output_type": "stream",
     "text": [
      "[[1 2]\n",
      " [0 2]]\n",
      "Accuracy : 0.6\n"
     ]
    }
   ],
   "source": [
    "import numpy as np\n",
    "import matplotlib.pyplot as plt\n",
    "import pandas as pd\n",
    "import seaborn as sns\n",
    "from sklearn.linear_model import LogisticRegression\n",
    "from sklearn.model_selection import train_test_split\n",
    "from sklearn import metrics\n",
    "import warnings #to remove the warnings\n",
    "warnings.filterwarnings('ignore')\n",
    "df= pd.read_csv('C:\\\\Users\\\\saipr\\\\Downloads\\\\data.csv')\n",
    "df.head()\n",
    "df.describe() #To know more about the dataset\n",
    "feature=['User ID','Age','EstimatedSalary']\n",
    "x=df[feature]\n",
    "y=df.Purchased\n",
    "x_train,x_test,y_train,y_test=train_test_split(x,y,test_size=0.25,random_state=1)\n",
    "logreg=LogisticRegression()\n",
    "logreg.fit(x_train,y_train)\n",
    "y_pred=logreg.predict(x_test)\n",
    "cnf_matrix=metrics.confusion_matrix(y_test,y_pred)\n",
    "print(cnf_matrix)\n",
    "print(\"Accuracy :\",metrics.accuracy_score(y_test,y_pred))\n"
   ]
  },
  {
   "cell_type": "code",
   "execution_count": null,
   "id": "f3078ff3-a120-4579-adf9-e1b8db201298",
   "metadata": {},
   "outputs": [],
   "source": []
  }
 ],
 "metadata": {
  "kernelspec": {
   "display_name": "Python 3 (ipykernel)",
   "language": "python",
   "name": "python3"
  },
  "language_info": {
   "codemirror_mode": {
    "name": "ipython",
    "version": 3
   },
   "file_extension": ".py",
   "mimetype": "text/x-python",
   "name": "python",
   "nbconvert_exporter": "python",
   "pygments_lexer": "ipython3",
   "version": "3.12.7"
  }
 },
 "nbformat": 4,
 "nbformat_minor": 5
}
