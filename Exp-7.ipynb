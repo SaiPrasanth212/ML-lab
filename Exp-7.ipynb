{
 "cells": [
  {
   "cell_type": "code",
   "execution_count": 1,
   "id": "abf47bed-4d25-4c79-a19c-f2ad945b5d92",
   "metadata": {},
   "outputs": [
    {
     "name": "stdout",
     "output_type": "stream",
     "text": [
      "Intercept: 3.1617195496417523\n",
      "Coefficient: [5.53121801]\n",
      "Training set score (R^2): 0.9868175024574795\n"
     ]
    }
   ],
   "source": [
    "import numpy as np\n",
    "from sklearn.linear_model import LinearRegression\n",
    "from sklearn.model_selection import train_test_split\n",
    "\n",
    "# Define the data\n",
    "x = np.arange(20).reshape(-1, 1)\n",
    "y = np.array([5, 12, 11, 19, 30, 29, 23, 40, 51, 54, 74, \n",
    "              62, 68, 73, 89, 84, 89, 101, 99, 106])\n",
    "\n",
    "# Split the dataset into training and testing sets\n",
    "x_train, x_test, y_train, y_test = train_test_split(x, y, test_size=8, random_state=0)\n",
    "\n",
    "# Build the linear regression model\n",
    "model = LinearRegression().fit(x_train, y_train)\n",
    "\n",
    "# Display model parameters\n",
    "print(\"Intercept:\", model.intercept_)\n",
    "print(\"Coefficient:\", model.coef_)\n",
    "\n",
    "# Model's performance on the training set\n",
    "print(\"Training set score (R^2):\", model.score(x_train, y_train))\n"
   ]
  },
  {
   "cell_type": "code",
   "execution_count": 2,
   "id": "108fa41f-eb2f-4131-b0d3-3e19b15a0289",
   "metadata": {},
   "outputs": [
    {
     "name": "stdout",
     "output_type": "stream",
     "text": [
      "Iris dataset shape: (150, 4)\n",
      "Diabetes dataset shape: (442, 10)\n",
      "Digits dataset shape: (1797, 64)\n",
      "Wine dataset shape: (178, 13)\n"
     ]
    }
   ],
   "source": [
    "from sklearn.datasets import load_iris, load_diabetes, load_digits, load_wine\n",
    "from sklearn.model_selection import train_test_split\n",
    "\n",
    "# Load datasets\n",
    "X_iris, y_iris = load_iris(return_X_y=True)\n",
    "X_diabetes, y_diabetes = load_diabetes(return_X_y=True)\n",
    "X_digits, y_digits = load_digits(return_X_y=True)\n",
    "X_wine, y_wine = load_wine(return_X_y=True)\n",
    "\n",
    "# Display dataset shapes\n",
    "print(\"Iris dataset shape:\", X_iris.shape)\n",
    "print(\"Diabetes dataset shape:\", X_diabetes.shape)\n",
    "print(\"Digits dataset shape:\", X_digits.shape)\n",
    "print(\"Wine dataset shape:\", X_wine.shape)\n"
   ]
  },
  {
   "cell_type": "code",
   "execution_count": null,
   "id": "3041b5c2-d5d8-41ce-9a54-ba72fbeb963f",
   "metadata": {},
   "outputs": [],
   "source": []
  }
 ],
 "metadata": {
  "kernelspec": {
   "display_name": "Python 3 (ipykernel)",
   "language": "python",
   "name": "python3"
  },
  "language_info": {
   "codemirror_mode": {
    "name": "ipython",
    "version": 3
   },
   "file_extension": ".py",
   "mimetype": "text/x-python",
   "name": "python",
   "nbconvert_exporter": "python",
   "pygments_lexer": "ipython3",
   "version": "3.12.7"
  }
 },
 "nbformat": 4,
 "nbformat_minor": 5
}
